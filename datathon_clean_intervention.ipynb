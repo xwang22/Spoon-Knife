{
  "nbformat": 4,
  "nbformat_minor": 0,
  "metadata": {
    "colab": {
      "provenance": [],
      "mount_file_id": "1Xa9cuUAxgssxRtJ5zW6SF5EHejULsTG7",
      "authorship_tag": "ABX9TyPAC1DTQjTh00IWvWBrmlLz",
      "include_colab_link": true
    },
    "kernelspec": {
      "name": "python3",
      "display_name": "Python 3"
    },
    "language_info": {
      "name": "python"
    }
  },
  "cells": [
    {
      "cell_type": "markdown",
      "metadata": {
        "id": "view-in-github",
        "colab_type": "text"
      },
      "source": [
        "<a href=\"https://colab.research.google.com/github/xwang22/Spoon-Knife/blob/main/datathon_clean_intervention.ipynb\" target=\"_parent\"><img src=\"https://colab.research.google.com/assets/colab-badge.svg\" alt=\"Open In Colab\"/></a>"
      ]
    },
    {
      "cell_type": "code",
      "source": [
        "from google.colab import drive\n",
        "drive.mount('/content/drive')"
      ],
      "metadata": {
        "colab": {
          "base_uri": "https://localhost:8080/"
        },
        "id": "GZwroNLrjAog",
        "outputId": "98cc82f4-4cb0-4412-aadd-328b0b6faeb5"
      },
      "execution_count": null,
      "outputs": [
        {
          "output_type": "stream",
          "name": "stdout",
          "text": [
            "Drive already mounted at /content/drive; to attempt to forcibly remount, call drive.mount(\"/content/drive\", force_remount=True).\n"
          ]
        }
      ]
    },
    {
      "cell_type": "code",
      "source": [
        "import pandas as pd\n",
        "import numpy as np"
      ],
      "metadata": {
        "id": "LgnIr8qwg9dZ"
      },
      "execution_count": null,
      "outputs": []
    },
    {
      "cell_type": "markdown",
      "source": [
        "## **interventions**"
      ],
      "metadata": {
        "id": "xsxbLFdUMdZb"
      }
    },
    {
      "cell_type": "markdown",
      "source": [
        "read data"
      ],
      "metadata": {
        "id": "S3wQeJ1vV43C"
      }
    },
    {
      "cell_type": "code",
      "execution_count": null,
      "metadata": {
        "id": "tt2cPgWUsFfC"
      },
      "outputs": [],
      "source": [
        "## read file\n",
        "#file_path = '/content/drive/My Drive/KU_Leuven/datathon2024/data/interventions1.parquet'\n",
        "#df_int1 = pd.read_parquet(file_path)\n",
        "\n",
        "#file_path = '/content/drive/My Drive/KU_Leuven/datathon2024/data/interventions2.parquet'\n",
        "#df_int2 = pd.read_parquet(file_path)\n",
        "\n",
        "#file_path = '/content/drive/My Drive/KU_Leuven/datathon2024/data/interventions3.parquet'\n",
        "#df_int3 = pd.read_parquet(file_path)\n",
        "\n",
        "#file_path = '/content/drive/My Drive/KU_Leuven/datathon2024/data/interventions_bxl.parquet.gzip'\n",
        "#df_int4 = pd.read_parquet(file_path, engine='pyarrow')\n",
        "\n",
        "#file_path = '/content/drive/My Drive/KU_Leuven/datathon2024/data/interventions_bxl2.parquet.gzip'\n",
        "#df_int5 = pd.read_parquet(file_path, engine='pyarrow')\n",
        "\n",
        "#file_path = '/content/drive/My Drive/KU_Leuven/datathon2024/data/cad9.parquet.gzip'\n",
        "#df_int6 = pd.read_parquet(file_path, engine='pyarrow')"
      ]
    },
    {
      "cell_type": "code",
      "source": [
        "# read total file\n",
        "file_path = '/content/drive/My Drive/KU_Leuven/datathon2024/interventions.csv'\n",
        "df = pd.read_csv(file_path)"
      ],
      "metadata": {
        "colab": {
          "base_uri": "https://localhost:8080/"
        },
        "id": "f83DKBlRiPdr",
        "outputId": "eb85723a-61dc-4aec-bcce-47e33deaa163"
      },
      "execution_count": null,
      "outputs": [
        {
          "output_type": "stream",
          "name": "stderr",
          "text": [
            "<ipython-input-124-894dd942587d>:3: DtypeWarning: Columns (1,5,10,13,14,15,16,17,18,19,26,27,28,29,30,31,35,36,37,38,39,43) have mixed types. Specify dtype option on import or set low_memory=False.\n",
            "  df = pd.read_csv(file_path)\n"
          ]
        }
      ]
    },
    {
      "cell_type": "code",
      "source": [
        "#def clean_colume_name(df):\n",
        "#  \"\"\"convert column names to lower cases, replace space with underscore\"\"\"\n",
        "#  df = df.copy()\n",
        "#  # all to lower cases\n",
        "#  df.columns = df.columns.str.lower()\n",
        "#  # replace space with underscore\n",
        "#  df.rename(columns=lambda x: x.replace(' ', '_'), inplace=True)\n",
        "#  return df\n",
        "#\n",
        "#df = clean_colume_name(df)"
      ],
      "metadata": {
        "id": "xEFNhJQwZKSG"
      },
      "execution_count": null,
      "outputs": []
    },
    {
      "cell_type": "markdown",
      "source": [
        " convert datatypes of datetime"
      ],
      "metadata": {
        "id": "NR82k8JVWAob"
      }
    },
    {
      "cell_type": "code",
      "source": [
        "# datatype conversion postalcode_permanence\n",
        "df['postalcode_permanence'] = df['postalcode_permanence'].astype(str)"
      ],
      "metadata": {
        "id": "e7zoCXbu5_2s"
      },
      "execution_count": null,
      "outputs": []
    },
    {
      "cell_type": "code",
      "source": [
        "# split dataframe into 6 to perform datetime conversion\n",
        "df1 = df[df['file_name'] == 'cad9'].copy()\n",
        "df2 = df[df['file_name'] == 'interventions_bxl'].copy()\n",
        "df3 = df[df['file_name'] == 'interventions_bxl2'].copy()\n",
        "df4 = df[df['file_name'] == 'interventions2'].copy()\n",
        "df5 = df[df['file_name'] == 'interventions3'].copy()\n",
        "df6 = df[df['file_name'] == 'inverventions1'].copy() # note there is a typo"
      ],
      "metadata": {
        "id": "tSDhbz7HKu_2"
      },
      "execution_count": null,
      "outputs": []
    },
    {
      "cell_type": "code",
      "source": [
        "# datetime conversion\n",
        "\n",
        "# split the big frame into smaller ones\n",
        "col = 't0'\n",
        "df1[col] = pd.to_datetime(df1[col])\n",
        "df2[col] = pd.to_datetime(df2[col], utc=True)\n",
        "df3[col] = pd.to_datetime(df3[col], format='%d%b%y:%H:%M:%S')\n",
        "df4[col] = pd.to_datetime(df4[col], format='%d%b%y:%H:%M:%S')\n",
        "df5[col] = pd.to_datetime(df5[col], format='%d%b%y:%H:%M:%S')\n",
        "df6[col] = pd.to_datetime(df6[col], format='%d%b%y:%H:%M:%S')"
      ],
      "metadata": {
        "id": "vXu6W34CLbaK"
      },
      "execution_count": null,
      "outputs": []
    },
    {
      "cell_type": "code",
      "source": [
        "# convert to datetime\n",
        "col = 't3'\n",
        "df1[col] = pd.to_datetime(df1[col])\n",
        "df2[col] = pd.to_datetime(df2[col], utc=True)\n",
        "df3[col] = pd.to_datetime(df3[col], format='%d%b%y:%H:%M:%S')\n",
        "df4[col] = pd.to_datetime(df4[col])\n",
        "df5[col] = pd.to_datetime(df5[col])\n",
        "df6[col] = pd.to_datetime(df6[col])"
      ],
      "metadata": {
        "id": "NwP46Rf7N_1k"
      },
      "execution_count": null,
      "outputs": []
    },
    {
      "cell_type": "code",
      "source": [
        "# convert utc time to local time\n",
        "col = 't0'\n",
        "df2[col] = df2[col].dt.tz_convert('Europe/Brussels')\n",
        "# drop the time zone information after conversion\n",
        "df2[col] = df2[col].dt.tz_localize(None)"
      ],
      "metadata": {
        "id": "yyiaIpGIcuFk"
      },
      "execution_count": null,
      "outputs": []
    },
    {
      "cell_type": "code",
      "source": [
        "# convert utc time to local time\n",
        "col = 't3'\n",
        "df2[col] = df2[col].dt.tz_convert('Europe/Brussels')\n",
        "# drop the time zone information after conversion\n",
        "df2[col] = df2[col].dt.tz_localize(None)"
      ],
      "metadata": {
        "id": "1nB73xjmfCQR"
      },
      "execution_count": null,
      "outputs": []
    },
    {
      "cell_type": "code",
      "source": [
        "# merge back to the full frame df\n",
        "dfs = [df1,df2,df3,df4,df5,df6]\n",
        "df = pd.concat(dfs)"
      ],
      "metadata": {
        "id": "S9zlx3Z5fiHG"
      },
      "execution_count": null,
      "outputs": []
    },
    {
      "cell_type": "code",
      "source": [
        "# calculate duration in minutes from t3 to t0\n",
        "df['duration_t3-t0'] = (df['t3'] - df['t0']).dt.total_seconds() / 60\n",
        "\n",
        "# check duration\n",
        "mask = df['duration_t3-t0']>0\n",
        "df_mask = df.loc[mask,['file_name','t3','t0','duration_t3-t0']]\n",
        "\n",
        "df_mask[['duration_t3-t0']].hist(log=True)"
      ],
      "metadata": {
        "colab": {
          "base_uri": "https://localhost:8080/",
          "height": 470
        },
        "id": "wgnkUWMieeZN",
        "outputId": "4ce0980e-8652-4968-a069-94359d7ba8bc"
      },
      "execution_count": null,
      "outputs": [
        {
          "output_type": "execute_result",
          "data": {
            "text/plain": [
              "array([[<Axes: title={'center': 'duration_t3-t0'}>]], dtype=object)"
            ]
          },
          "metadata": {},
          "execution_count": 133
        },
        {
          "output_type": "display_data",
          "data": {
            "text/plain": [
              "<Figure size 640x480 with 1 Axes>"
            ],
            "image/png": "[encoded data removed]"
          },
          "metadata": {}
        }
      ]
    },
    {
      "cell_type": "code",
      "source": [
        "# calculate the date of t0\n",
        "df['t0_date'] = df['t0'].dt.date\n",
        "df['t0_date'] = pd.to_datetime(df['t0_date'])"
      ],
      "metadata": {
        "id": "39A71HWOeYmV"
      },
      "execution_count": null,
      "outputs": []
    },
    {
      "cell_type": "code",
      "source": [
        "# check for duplicates\n",
        "duplicated_missions = df[df.duplicated(subset= ['mission_id'])].mission_id.to_list()\n",
        "df_duplicates = df[df['mission_id'].isin(duplicated_missions)]\n",
        "# df_duplicates.to_csv('inv123_duplicates.csv',index=False)\n",
        "\n",
        "\n",
        "# drop duplicated mission id only for cardiotic arrest\n",
        "# TODO"
      ],
      "metadata": {
        "id": "4LKkw74DSCFZ"
      },
      "execution_count": null,
      "outputs": []
    },
    {
      "cell_type": "code",
      "source": [
        "# inspect abandon reasons\n",
        "col = 'abandon_reason'\n",
        "frequency_count = df[col].value_counts()\n",
        "\n",
        "#df_refuse = df[df['abandon_reason'] == 'Weigering van vervoer']\n",
        "#col = ['eventtype']\n",
        "#frequency_count = df_refuse[col].value_counts()\n",
        "#frequency_count[:15]\n",
        "\n",
        "\n",
        "# ============DROP ABANDON REASONS===============\n",
        "abandon_drop = ['Error',\n",
        "                'Loos alarm goed bedoeld',\n",
        "                'Kwaadwillig',\n",
        "                'Geannuleerde rit'\n",
        "                'Kwaadwillige oproep',]\n",
        "\n",
        "df = df[~df['abandon_reason'].isin(abandon_drop)]"
      ],
      "metadata": {
        "id": "DMRXey0ykEQW"
      },
      "execution_count": null,
      "outputs": []
    },
    {
      "cell_type": "code",
      "source": [
        "# LON, LAT value check\n",
        "cols = ['latitude_permanence',\n",
        "        'longitude_permanence',\n",
        "        'latitude_intervention',\n",
        "        'longitude_intervention',]\n",
        "\n",
        "#df.loc[df.latitude_intervention < 49,cols]\n",
        "#df.loc[df.longitude_intervention < 2,cols]\n",
        "\n",
        "# replace 0 with N/A\n",
        "df['latitude_intervention'] = df['latitude_intervention'].replace(0, np.nan)\n",
        "df['longitude_intervention'] = df['longitude_intervention'].replace(0, np.nan)\n",
        "\n",
        "# deal with small value of latitude_intervention\n",
        "df.loc[df['latitude_intervention'] < 49, 'latitude_intervention'] *= 10"
      ],
      "metadata": {
        "id": "6-egiUMKr9hK"
      },
      "execution_count": null,
      "outputs": []
    },
    {
      "cell_type": "code",
      "source": [
        "# check duration and waiting_time\n",
        "\n",
        "# round the duration to compare with waiting_time\n",
        "df['duration_t3-t0_round'] = df['duration_t3-t0'].round()\n",
        "\n",
        "cols = ['t3','t0','duration_t3-t0','duration_t3-t0_round','waiting_time',]\n",
        "\n",
        "#df_waiting_check = df.loc[abs(df['duration_t3-t0_round']-df['waiting_time'])>1,cols]\n",
        "#df_waiting_check.to_csv('df_waiting_check.csv')\n",
        "\n",
        "# =================CORRECTION STARTS ========================\n",
        "# replace negative durations with N/A\n",
        "df.loc[df['duration_t3-t0'] <=0, 'duration_t3-t0'] = np.nan\n",
        "\n",
        "# replace waiting_time > 24hours with N/A\n",
        "df.loc[df['waiting_time'] > 24*60, 'waiting_time'] = np.nan\n",
        "# replace waiting_time = 0 with N/A\n",
        "df.loc[df['waiting_time'] <= 0, 'waiting_time'] = np.nan\n",
        "\n",
        "# round the duration to compare with waiting_time\n",
        "df['duration_t3-t0_round'] = df['duration_t3-t0'].round()\n",
        "\n",
        "# for cases when duration - waiting_timie = 60, use waiting_time instead of duration\n",
        "rows_to_update = df[(df['duration_t3-t0_round'] - df['waiting_time'] >= 59) & (abs(df['duration_t3-t0_round']-df['waiting_time'])<=61)].index\n",
        "df.loc[rows_to_update, 'duration_t3-t0'] -= 60\n",
        "\n",
        "# round the duration to compare with waiting_time\n",
        "df['duration_t3-t0_round'] = df['duration_t3-t0'].round()\n",
        "\n",
        "# check if na values in duration can be filled by waiting_time\n",
        "#df.loc[df['duration_t3-t0'].isnull() & df['waiting_time'].notnull()].to_csv('df_waiting_time_check_2.csv')\n",
        "\n",
        "# remove the helper column\n",
        "df.drop('duration_t3-t0_round',axis=1,inplace=True)\n",
        "\n",
        "# =================CORRECTION ENDS ========================"
      ],
      "metadata": {
        "id": "TcIcQAE6g3Yw"
      },
      "execution_count": null,
      "outputs": []
    },
    {
      "cell_type": "code",
      "source": [
        "# save output\n",
        "df.to_csv('interventions_processed.csv')"
      ],
      "metadata": {
        "id": "NMLDi17MpCkb"
      },
      "execution_count": null,
      "outputs": []
    }
  ]
}